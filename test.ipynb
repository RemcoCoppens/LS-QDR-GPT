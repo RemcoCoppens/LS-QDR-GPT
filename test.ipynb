{
 "cells": [
  {
   "cell_type": "code",
   "execution_count": 1,
   "metadata": {},
   "outputs": [],
   "source": [
    "from model.process_document import ProcessDocument"
   ]
  },
  {
   "cell_type": "code",
   "execution_count": 2,
   "metadata": {},
   "outputs": [],
   "source": [
    "doc = ProcessDocument(file_path=\"data/100-V2.5.617-2024-R.pdf\")"
   ]
  },
  {
   "cell_type": "code",
   "execution_count": 3,
   "metadata": {},
   "outputs": [
    {
     "name": "stderr",
     "output_type": "stream",
     "text": [
      "/home/remcocoppens/miniconda3/envs/mainEnv/lib/python3.9/site-packages/huggingface_hub/file_download.py:1132: FutureWarning: `resume_download` is deprecated and will be removed in version 1.0.0. Downloads always resume when possible. If you want to force a new download, use `force_download=True`.\n",
      "  warnings.warn(\n"
     ]
    }
   ],
   "source": [
    "test = doc.get_LS_output()"
   ]
  },
  {
   "cell_type": "code",
   "execution_count": 4,
   "metadata": {},
   "outputs": [
    {
     "data": {
      "text/plain": [
       "('KEURINGSRAPPORT || INSPECTIE_ONDERHOUDSRAPPORT\\n\\n*Chat generated text:* \\n- gebouw_naam: Isala\\n- adres: Dokter van Heesweg 2, 8025 AB Zwolle\\n- ruimte_omschrijving: Verpleegkamer 109\\n- datum_van_keuring: 2024-04-17\\n- herstel_acties: Aanvullen van installatiedocumentatie\\n- gebreken: Vereffeningschema ontbreekt\\n- opmerkingen: Installatiedocumentatie is niet compleet en bijgewerkt\\n- tijdsbesteding_monteur: Niet gespecificeerd--------------------\\n\\n*File name*: 100-V2.5.617-2024-R.pdf \\n\\n          \\n                       *100-v2.5.617-2024-r *  \\n*___________________________________________________________________________________________ *           \\n*inspectie rapport *           *rapportnummer *  *: 100-v2.5.617-2024-r *  \\n*project *  * *  *: 2411106 – inspectie medische ruimten isala 2024 *  \\n*inspectieadres *  *: dokter van heesweg 2, 8025 ab te zwolle *  \\n*opdrachtgever *  *: zorgbeheer isala v.o.f. *  \\n*datum inspectie *  *: 17 april 2024 *  \\n            \\n   \\n      onderwerp   :   veiligheidsinspectie conform nen 1010:2007+c1:2008   \\n   ruimte   :   v2.5.617 verpleegkamer 109    \\n   medische classificatie   :   k1   \\n   conclusie    :    ☐  voldoet aan criteria   \\n* *  * *  ☒  voldoet aan criteria behoudens de installatiedocumentatie   \\n* *  * *  ☐  voldoet niet (geheel) aan criteria (zie inspectieresultaten 5.1 en 6.1)    \\n* *  * *      \\n      * *              auteur: g. veenhoven                     verificatie: r.borninkhof   \\n               \\n   oldenzaal, 19 april 2024   \\n            \\ndit rapport bevat: 12 pagina’s      \\n   entheq   -   steenstraat 103   -   7571 bj  oldenzaal   -   postbus 288   -   7570 ag   oldenzaal   \\n   t: 0541-534513   -   e: mail@entheq.nl   -   i: www.entheq.nl   \\n   \\n   \\n\\n --- \\n\\n          \\n                       *100-v2.5.617-2024-r *  \\n*___________________________________________________________________________________________ *           \\n*inhoudsopgave *  * *  *1.*    *algemene gegevens ............................................................................................................................. 3*    \\n1.1    opdrachtgever   ................................................................................................................................... 3    \\n1.2    inspectielocatie   .................................................................................................................................. 3    \\n*2.*    *installatiegegevens ............................................................................................................................ 4*    \\n*3.*    *geïnspecteerde ruimten ..................................................................................................................... 5*    \\n*4.*    *doel en uitgangspunten van de inspectie ...................................................................................... 6*    \\n4.1    bijzondere omstandigheden   ........................................................................................................... 6    \\n4.2    inspectie uitsluitingen ..................................................................................................................... 6    \\n*5.*    *inspectieresultaten ............................................................................................................................ 7*    \\n5.1    verpleegkamer 109 v2.5.617 ............................................................................................................. 7    \\n*6.*    *meet- en beproevingsresultaten *  *...................................................................................................... 8*    \\n6.1    meetresultaten verpleegkamer 109 v2.5.617 .............................................................................. 8    \\n*7.*    *samenvatting van de inspectie ....................................................................................................... 10*    \\n7.1    algemeen ........................................................................................................................................... 10    \\n*8.*    *inspectieverantwoording ............................................................................................................... 11*    \\n8.1    algemeen ........................................................................................................................................... 11    \\n8.2    visueel ................................................................................................................................................ 11    \\n8.3    meten / beproeven   ........................................................................................................................... 12    \\n8.4    installatiedocumentatie   ............................................................................................................... 12    \\n8.5    gebruikte meetapparatuur ........................................................................................................... 12    \\n      * *  \\nopenbaarmaking en/of verveelvoudiging van de inhoud van dit rapport in enige andere vorm dan door volledige en letterlijke   \\nweergave van het rapport en in de taal waarin het is gesteld, is zonder schriftelijke toestemming niet geoorloofd.   \\n      \\n   project: 2411106 – inspectie medische ruimten isala 2024      pagina 2 van 12    \\n\\n --- \\n\\n          \\n                       *100-v2.5.617-2024-r *  \\n*___________________________________________________________________________________________ *           \\n*1.* * * *algemene gegevens *  \\n      *1.1* * *  *opdrachtgever *  \\n   opdrachtgever       : zorgbeheer isala v.o.f.   \\ncontactpersoon       : de heer f. du buy   \\nadres            : postbus 17   \\npostcode         : 3980 ca   \\nplaats            : bunnik   \\ntelefoonnummer      : 06-30582412   \\nemail             :  ferdinand.du.buy@bam.com       \\n               rapportage.zorgbeheer.bouwentechniek@bam.com    \\n         *1.2* * *  *inspectielocatie *  \\n   adres            : dokter van heesweg 2   \\npostcode         : 8025 ab   \\nplaats           : zwolle   \\n      contactpersoon       : de heer j. (johan) de wit   \\ntelefoonnummer      : 06-53521404   \\n      opdrachtnummer/referentie   : -   \\n      projectnummer       : 100-v2.5.617-2024-r   \\nuitvoering inspectie      : 17 april 2024   \\n      inspectie uitgevoerd door    : g. veenhoven   \\n            \\nopenbaarmaking en/of verveelvoudiging van de inhoud van dit rapport in enige andere vorm dan door volledige en letterlijke   \\nweergave van het rapport en in de taal waarin het is gesteld, is zonder schriftelijke toestemming niet geoorloofd.   \\n      \\n   project: 2411106 – inspectie medische ruimten isala 2024      pagina 3 van 12    \\n\\n --- \\n\\n          \\n                       *100-v2.5.617-2024-r *  \\n*___________________________________________________________________________________________ *           \\n*2.* * * *installatiegegevens *  \\nsoort installatie          : medische elektrische installatie classificatie k1    \\ninstallatie aangelegd in         : 2012   \\nnetspanning            : 400/230v   \\nwaarde hoofdbeveiliging       : niet nader bekend   \\nstelsel             : tns   \\ninstallatiedocumentatie aanwezig    : ja, echter niet compleet en bijgewerkt   \\ntekeningnummer         : v_v2_05_e60_---_12   \\nrevisiedatum            : 01-09-2013      \\n      \\nopenbaarmaking en/of verveelvoudiging van de inhoud van dit rapport in enige andere vorm dan door volledige en letterlijke   \\nweergave van het rapport en in de taal waarin het is gesteld, is zonder schriftelijke toestemming niet geoorloofd.   \\n      \\n   project: 2411106 – inspectie medische ruimten isala 2024      pagina 4 van 12    \\n\\n --- \\n\\n          \\n                       *100-v2.5.617-2024-r *  \\n*___________________________________________________________________________________________ *           \\n*3.* * * *geïnspecteerde ruimten *  \\n*ruimte  *  * *  * *  *stramien *  * *  *verdieping *  * *  *classificatie *  \\nverpleegkamer 109      v2.5.617      vijfde         k1   \\n      * *  \\nopenbaarmaking en/of verveelvoudiging van de inhoud van dit rapport in enige andere vorm dan door volledige en letterlijke   \\nweergave van het rapport en in de taal waarin het is gesteld, is zonder schriftelijke toestemming niet geoorloofd.   \\n      \\n   project: 2411106 – inspectie medische ruimten isala 2024      pagina 5 van 12    \\n\\n --- \\n\\n          \\n                       *100-v2.5.617-2024-r *  \\n*___________________________________________________________________________________________ *           \\n*4.* * * *doel en uitgangspunten van de inspectie *  \\ndoel van de inspectie is het vaststellen van de mate waarin de medische elektrische installatie voldoet aan de   geldende criteria.   deze rapportage is een weergave van de vastgestelde resultaten welke nodig zijn om een correcte toetsing te   kunnen uitvoeren. detailinformatie welke voor de overzichtelijkheid van deze rapportage geen aanvullende   informatie biedt zal geen deel uitmaken van dit rapport. deze informatie is opgenomen in de projectfile en zal   gedurende een periode van 10 jaar opvraagbaar zijn.            *4.1* * *  *bijzondere omstandigheden *  \\n   geen.            *4.2* * *  *inspectie uitsluitingen *  \\n   ten tijde van de inspectie was het niet toegestaan (delen van) de installatie spanningsloos te maken.    de functionele test van enkele aardlekbeveiligingen is derhalve uitgesloten van deze inspectie.         \\nopenbaarmaking en/of verveelvoudiging van de inhoud van dit rapport in enige andere vorm dan door volledige en letterlijke   \\nweergave van het rapport en in de taal waarin het is gesteld, is zonder schriftelijke toestemming niet geoorloofd.   \\n      \\n   project: 2411106 – inspectie medische ruimten isala 2024      pagina 6 van 12    \\n\\n --- \\n\\n          \\n                       *100-v2.5.617-2024-r *  \\n*___________________________________________________________________________________________ *           \\n*5.* * * *inspectieresultaten *  \\n*5.1* * *  *verpleegkamer 109 v2.5.617 *  \\n   \\n*afwijking *  *foto *  \\n   het vereffeningschema ontbreekt. een vereffeningschema is een verplicht   onderdeel van de installatiedocumentatie in medisch geclassificeerde ruimten.      \\n-   \\n      * *  \\nopenbaarmaking en/of verveelvoudiging van de inhoud van dit rapport in enige andere vorm dan door volledige en letterlijke   \\nweergave van het rapport en in de taal waarin het is gesteld, is zonder schriftelijke toestemming niet geoorloofd.   \\n      \\n   project: 2411106 – inspectie medische ruimten isala 2024      pagina 7 van 12    \\n\\n --- \\n\\n          \\n                       *100-v2.5.617-2024-r *  \\n*___________________________________________________________________________________________ *           \\n*6.* * * *meet- en beproevingsresultaten *  \\n*6.1* * *  *meetresultaten verpleegkamer 109 v2.5.617 *  \\n   \\n   \\n      \\n*meetresultaten wandcontactdozen en aanvullende potentiaalvereffeningen *  \\n*ident. *  *impedantie vereffeningen *  *contactdruk *  *circuit *  \\n*impedantie (l-n) *  *eindgroep *  \\n*beschermingscontacten *  \\n*meet- *  *potentiaal *  *beschermings *  *contact 1 *  *contact 2 *  *meetresultaat *  *v2-lk-b5-1 *  *v2-nl-b5-1 *  \\n*punt *  *vereffening (mω) *  *contact (mω) *  *(nm) *  *(nm) *  *(mω) *  \\na1   -   58   18.4   10.4   710   k18   \\n    *b1   -   394   16.0   18.1   890   k35   \\n    *b2   -   393   19.8   19.7   870   k35   \\n    *b3   -   390   16.9   18.7   880   k35   \\n    *b4   -   388   19.1   19.5   880   k35   \\nc1   -   66   18.5   14.1   730   k18   \\nc2   -   68   19.0   17.7   730   k18   \\n                     \\ne1   58   60   15.5   17.8   820   nk8   \\ne2   58   60   15.4   15.7   830   nk8   \\nd1   -   43   16.3   15.2   700   k18   \\nf1   8   17   15.5   13.3   800   nk8   \\nf2   8   10   14.2   12.1   800   nk8   \\ng1   8   26   13.1   11.2   670   k11   \\ng2   8   11   11.9   12.6   740   k11   \\n* contactdozen zijn buiten het patiëntengebied geplaatst (hoger dan 2.5m)         \\nopenbaarmaking en/of verveelvoudiging van de inhoud van dit rapport in enige andere vorm dan door volledige en letterlijke   \\nweergave van het rapport en in de taal waarin het is gesteld, is zonder schriftelijke toestemming niet geoorloofd.   \\n      \\n   project: 2411106 – inspectie medische ruimten isala 2024      pagina 8 van 12    \\n\\n --- \\n\\n          \\n                       *100-v2.5.617-2024-r *  \\n*___________________________________________________________________________________________ *           \\n   \\n*meetresultaten vreemd geleidende delen *  \\n*onderdeel *  *impedantie *  *geïsoleerde *  *aanraakspanning *  \\n*vereffening (mω) *  *opstelling (ω) *  *(mv) *  \\nverlaagd plafond   18   -   0   \\nbeugel t.b.v. klapstoelen   niet vereffend   ∞   0   \\nkapstok   niet vereffend   885m   0   \\nwandarmatuur   52   -   0   \\ngordijnbeugel   niet vereffend   ∞   0   \\nbedwandpaneel   4   -   0   \\nzuurstof   7   -   0   \\nlucht   8   -   0   \\nhouder t.b.v. beademingsmasker    niet vereffend   114m   0   \\nkraan   niet vereffend   56k   0   \\nspoelbak   40   -   0   \\ngordijnrails   7   -   0   \\ntv beugel   19   -   0   \\n   \\n      \\nopenbaarmaking en/of verveelvoudiging van de inhoud van dit rapport in enige andere vorm dan door volledige en letterlijke   \\nweergave van het rapport en in de taal waarin het is gesteld, is zonder schriftelijke toestemming niet geoorloofd.   \\n      \\n   project: 2411106 – inspectie medische ruimten isala 2024      pagina 9 van 12    \\n\\n --- \\n\\n          \\n                       *100-v2.5.617-2024-r *  \\n*___________________________________________________________________________________________ *           \\n*7.* * * *samenvatting van de inspectie *  \\n*7.1* * *  *algemeen *  \\n   met inachtneming van de resultaten van de visuele inspectie alsmede het meten en beproeven moet worden   geconcludeerd dat de medische elektrische installatie van verpleegkamer 109 v2.5.617, behoudens de   installatiedocumentatie, voldoet aan de geldende criteria. * *  * *  het vereffeningschema ontbreekt. een vereffeningschema is een verplicht onderdeel van de   installatiedocumentatie in medisch geclassificeerde ruimten.            \\nopenbaarmaking en/of verveelvoudiging van de inhoud van dit rapport in enige andere vorm dan door volledige en letterlijke   \\nweergave van het rapport en in de taal waarin het is gesteld, is zonder schriftelijke toestemming niet geoorloofd.   \\n      \\n   project: 2411106 – inspectie medische ruimten isala 2024      pagina 10 van 12    \\n\\n --- \\n\\n          \\n                       *100-v2.5.617-2024-r *  \\n*___________________________________________________________________________________________ *           \\n*8.* * * *inspectieverantwoording *  \\n*8.1* * *  *algemeen *  \\n   controle van de vaste medische elektrische installatie en het vaststellen van:   \\n➢   patiëntenomgeving   ➢   gebruikt stelsel   ➢   toepassing elektrisch geleidende vloeren   \\n         *8.2* * *  *visueel  *  \\n   controle van de vaste medische elektrotechnische installatie op navolgende punten:   \\n➢   bescherming tegen directe aanraking   ➢   toegankelijkheid van de ruimte(n)   ➢   bereikbaarheid voor bediening, onderhoud en inspecties.   ➢   hulpmiddelen, bedieningsorganen, waarschuwingsborden en overige informatie.   ➢   bevestiging elektrisch materieel en aansluitleidingen.   ➢   beschadigingen en/of mechanische gebreken van elektrisch materieel.   ➢   vuil, stof ed. welke de werking negatief beïnvloeden of brand veroorzaken.   ➢   verschijnselen die op hoge temperaturen wijzen.   ➢   elektrisch materieel in overeenstemming met uitwendige invloeden (ex, ipxx).   ➢   elektrisch materieel en aansluitleidingen in overeenstemming met doorsnede i.v.m. nominale stroom.   ➢   onderlinge schadelijke beïnvloeding van elektrisch materieel en aansluitleidingen.   ➢   zichtbare onderbrekingen van beschermings- en aardleidingen.   ➢   elektrisch materieel en aansluitleidingen op de juiste plaats aangebracht.   ➢   elektrisch materieel en aansluitleidingen in overeenstemming met norm en de fabrikantvoorschriften.   ➢   beveiligingstoestellen op juiste installatie.   ➢   beschermingsleidingen    ➢   vereffeningpunten en vereffeningleidingen   ➢   centrale aardrail / potentiaalvereffening   ➢   aantal, plaats en aansluiting wandcontactdozen   ➢   nominaal vermogen wandcontactdozen in veiligheidsketens   ➢   geïsoleerde opstelling vreemd geleidende- en metalen delen   ➢   isolatiekoppelingen metalen leidingen met medische gassen / vloeistoffen   ➢   veiligheids- of beschermingstransformatoren   ➢   primaire en secundaire beveiliging van transformatoren   ➢   isolatiebewakingstoestellen   \\n                     * *  \\nopenbaarmaking en/of verveelvoudiging van de inhoud van dit rapport in enige andere vorm dan door volledige en letterlijke   \\nweergave van het rapport en in de taal waarin het is gesteld, is zonder schriftelijke toestemming niet geoorloofd.   \\n      \\n   project: 2411106 – inspectie medische ruimten isala 2024      pagina 11 van 12    \\n\\n --- \\n\\n          \\n                       *100-v2.5.617-2024-r *  \\n*___________________________________________________________________________________________ *           \\n*8.3* * *  *meten / beproeven *  \\n   de volgende metingen en beproevingen worden verricht;   \\n➢   impedantie vereffeningleidingen   ➢   aanraakspanning   ➢   lekstroom in de veiligheidsketen   ➢   impedantie geïsoleerd opgestelde delen   ➢   doorgangsweerstand vloeren   ➢   contactdruk van de beschermingscontacten   \\n         *8.4* * *  *installatiedocumentatie *  \\n   controle van de installatiedocumentatie op navolgende punten:   \\n➢   aanwezigheid en compleetheid   ➢   technische inhoudelijkheid   ➢   revisies   ➢   overeenstemming tekening met installatie    \\n         *8.5* * *  *gebruikte meetapparatuur *  \\n   \\n* *  * *  * *  * *  * *        \\ninstrument   fabrikaat   type   entheq id:   \\nmetrahit   gmc   im extra   149   \\nmetriso    gmc   1000d   099   \\ncontactdrukmeter   etheq-rcd   qx1020   0063   \\nkunstpatiënt   etheq-rcd   --   1014   \\ninstallatietester   metrell   mi3155   1042   \\n               \\nopenbaarmaking en/of verveelvoudiging van de inhoud van dit rapport in enige andere vorm dan door volledige en letterlijke   \\nweergave van het rapport en in de taal waarin het is gesteld, is zonder schriftelijke toestemming niet geoorloofd.   \\n      \\n   project: 2411106 – inspectie medische ruimten isala 2024      pagina 12 van 12    ',\n",
       " {'klant_naam': 'zorgbeheer isala v.o.f.',\n",
       "  'gebouw_naam': 'Isala',\n",
       "  'adres': 'Dokter van Heesweg 2, 8025 AB Zwolle',\n",
       "  'soort_installatie': ['medische elektrische installatie'],\n",
       "  'element_merk': None,\n",
       "  'element_type': ['verpleegkamer'],\n",
       "  'element_ID': ['v2.5.617'],\n",
       "  'ruimte_nummer': ['109'],\n",
       "  'ruimte_omschrijving': 'Verpleegkamer 109',\n",
       "  'datum_van_keuring': '2024-04-17',\n",
       "  'keuringsresultaat': ['voldoet aan criteria behoudens de installatiedocumentatie'],\n",
       "  'herstel_acties': ['Aanvullen van installatiedocumentatie'],\n",
       "  'gebreken': ['Vereffeningschema ontbreekt'],\n",
       "  'opmerkingen': ['Installatiedocumentatie is niet compleet en bijgewerkt'],\n",
       "  'tijdsbesteding_monteur': ['Niet gespecificeerd'],\n",
       "  'doctype': 'KEURINGSRAPPORT'})"
      ]
     },
     "execution_count": 4,
     "metadata": {},
     "output_type": "execute_result"
    }
   ],
   "source": [
    "test"
   ]
  },
  {
   "cell_type": "code",
   "execution_count": null,
   "metadata": {},
   "outputs": [],
   "source": []
  },
  {
   "cell_type": "code",
   "execution_count": null,
   "metadata": {},
   "outputs": [],
   "source": []
  }
 ],
 "metadata": {
  "kernelspec": {
   "display_name": "mainEnv",
   "language": "python",
   "name": "python3"
  },
  "language_info": {
   "codemirror_mode": {
    "name": "ipython",
    "version": 3
   },
   "file_extension": ".py",
   "mimetype": "text/x-python",
   "name": "python",
   "nbconvert_exporter": "python",
   "pygments_lexer": "ipython3",
   "version": "3.9.19"
  }
 },
 "nbformat": 4,
 "nbformat_minor": 2
}
